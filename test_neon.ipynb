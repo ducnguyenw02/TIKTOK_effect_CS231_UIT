{
 "cells": [
  {
   "cell_type": "code",
   "execution_count": 1,
   "metadata": {},
   "outputs": [
    {
     "data": {
      "text/plain": [
       "True"
      ]
     },
     "execution_count": 1,
     "metadata": {},
     "output_type": "execute_result"
    }
   ],
   "source": [
    "import os, sys\n",
    "import cv2\n",
    "import numpy as np \n",
    "from scipy.ndimage import binary_erosion\n",
    "from scipy.ndimage import gaussian_filter\n",
    "\n",
    "def convert_to_binary(img_grayscale, thresh=100):\n",
    "    thresh, img_binary = cv2.threshold(img_grayscale, thresh, maxval=255, type=cv2.THRESH_OTSU)\n",
    "    return img_binary\n",
    "\n",
    "\n",
    "img_neon = cv2.imread('D:/Github/TIKTOK_effect_CS231_UIT/image/matna2.jpg')#, cv2.IMREAD_GRAYSCALE)\n",
    "img = np.zeros((img_neon.shape[0],img_neon.shape[1],1))\n",
    "\n",
    "\n",
    "# img_binary = convert_to_binary(img_neon, thresh=100)\n",
    "# (thresh, im_bw) = cv2.threshold(img_binary, 128, 255, type= 1)\n",
    "# im_bw = np.expand_dims(im_bw, axis=2)\n",
    "\n",
    "# img_neon = np.zeros((img.shape[0],img.shape[1],1))\n",
    "# img_neon[:,:] = im_bw[:,:]\n",
    "\n",
    "imarray = np.asarray(img_neon)[..., 0] / 255\n",
    "\n",
    "eroded = binary_erosion(imarray, iterations=20)\n",
    "\n",
    "# Make the outlined rectangles.\n",
    "outlines = imarray - eroded\n",
    "\n",
    "# Convolve with a Gaussian to effect a blur.\n",
    "blur = gaussian_filter(outlines, sigma=10)\n",
    "\n",
    "# Make binary images into neon green.\n",
    "# neon_green_rgb = [0.124, 1, 0.0784]\n",
    "neon_green_rgb = [0, 0, 1]\n",
    "outlines = outlines[:, :, None] * neon_green_rgb\n",
    "blur = blur[:, :, None] * neon_green_rgb\n",
    "\n",
    "# Combine the images and constrain to [0, 1].\n",
    "blur_strength = 3\n",
    "glow = np.clip(outlines + blur_strength*blur, 0, 1)\n",
    "glow = glow*255\n",
    "output = np.where(glow < np.array([50, 50, 50]), img, glow)\n",
    "output = np.where(img_neon > np.array([250, 250, 250]), img_neon, output)\n",
    "cv2.imwrite('D:/Github/TIKTOK_effect_CS231_UIT/image/KQmatna2.jpg', output)"
   ]
  },
  {
   "cell_type": "code",
   "execution_count": null,
   "metadata": {},
   "outputs": [],
   "source": []
  }
 ],
 "metadata": {
  "kernelspec": {
   "display_name": "base",
   "language": "python",
   "name": "python3"
  },
  "language_info": {
   "codemirror_mode": {
    "name": "ipython",
    "version": 3
   },
   "file_extension": ".py",
   "mimetype": "text/x-python",
   "name": "python",
   "nbconvert_exporter": "python",
   "pygments_lexer": "ipython3",
   "version": "3.9.12"
  },
  "orig_nbformat": 4,
  "vscode": {
   "interpreter": {
    "hash": "b47031e47e219665dfef737926059fbc7ebf5d89e30cd95fdf506dcb61383eeb"
   }
  }
 },
 "nbformat": 4,
 "nbformat_minor": 2
}
